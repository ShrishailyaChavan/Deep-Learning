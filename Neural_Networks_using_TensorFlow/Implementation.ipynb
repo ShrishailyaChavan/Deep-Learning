{
 "cells": [
  {
   "cell_type": "code",
   "execution_count": 1,
   "id": "7416e687",
   "metadata": {},
   "outputs": [],
   "source": [
    "import tensorflow as tf\n",
    "from tensorflow import keras\n",
    "from keras.models import Sequential\n",
    "from keras.layers import Conv2D\n",
    "from keras.layers import MaxPooling2D\n",
    "from keras.layers import Dense\n",
    "from keras.layers import Flatten\n",
    "from keras.optimizers import SGD\n",
    "import numpy as np\n",
    "import matplotlib.pyplot as plt\n",
    "from sklearn.model_selection import train_test_split\n",
    "from tensorflow.keras.layers import MaxPool2D\n",
    "from tensorflow.keras.layers import Dense\n",
    "from tensorflow.keras.layers import Flatten\n",
    "from tensorflow.keras.layers import Dropout\n",
    "from keras.callbacks import ModelCheckpoint"
   ]
  },
  {
   "cell_type": "code",
   "execution_count": 2,
   "id": "9f529f6f",
   "metadata": {},
   "outputs": [],
   "source": [
    "fashion_mnist = tf.keras.datasets.fashion_mnist\n",
    "\n",
    "# Load the fashion-mnist pre-shuffled train data and test data\n",
    "(x_train, y_train), (x_test, y_test) = fashion_mnist.load_data()"
   ]
  },
  {
   "cell_type": "code",
   "execution_count": 3,
   "id": "bbe80e82",
   "metadata": {},
   "outputs": [
    {
     "name": "stdout",
     "output_type": "stream",
     "text": [
      "x_train.shape: (60000, 28, 28) y_train.shape: (60000,)\n"
     ]
    }
   ],
   "source": [
    "print(\"x_train.shape:\", x_train.shape, \"y_train.shape:\", y_train.shape)"
   ]
  },
  {
   "cell_type": "code",
   "execution_count": 4,
   "id": "ae39aeb2",
   "metadata": {},
   "outputs": [
    {
     "name": "stdout",
     "output_type": "stream",
     "text": [
      "x_train shape: (60000, 28, 28) y_train shape: (60000,)\n",
      "60000 train set\n",
      "10000 test set\n"
     ]
    },
    {
     "data": {
      "text/plain": [
       "<matplotlib.image.AxesImage at 0x24ee53cd340>"
      ]
     },
     "execution_count": 4,
     "metadata": {},
     "output_type": "execute_result"
    },
    {
     "data": {
      "image/png": "[encoded data removed]",
      "text/plain": [
       "<Figure size 432x288 with 1 Axes>"
      ]
     },
     "metadata": {
      "needs_background": "light"
     },
     "output_type": "display_data"
    }
   ],
   "source": [
    "#printing training set shape \n",
    "\n",
    "print(\"x_train shape:\", x_train.shape, \"y_train shape:\", y_train.shape)\n",
    "\n",
    "#print the number of training and test datasets\n",
    "print(x_train.shape[0], 'train set')\n",
    "print(x_test.shape[0], 'test set')\n",
    "\n",
    "class_names = ['T-shirt/top', #index 0\n",
    "               'Trouser',     #index 1\n",
    "               'Pullover',    #index 2\n",
    "               'Dress',       #index 3\n",
    "               'Coat',        #index 4\n",
    "               'Sandal',      #index 5\n",
    "               'Shirt',       #index 6\n",
    "               'Sneaker',     #index 7\n",
    "               'Bag',         #index 8\n",
    "               'Ankle boot']  #index 9\n",
    "\n",
    "\n",
    "\n",
    "plt.imshow(x_train[1])"
   ]
  },
  {
   "cell_type": "code",
   "execution_count": 5,
   "id": "5a8a0e72",
   "metadata": {},
   "outputs": [],
   "source": [
    "#normalization\n",
    "x_train = x_train.astype('float32') / 255\n",
    "x_test = x_test.astype('float32') / 255"
   ]
  },
  {
   "cell_type": "code",
   "execution_count": 6,
   "id": "e4285dd1",
   "metadata": {},
   "outputs": [
    {
     "name": "stdout",
     "output_type": "stream",
     "text": [
      "Number of train data - 60000\n",
      "Number of test data - 10000\n"
     ]
    }
   ],
   "source": [
    "print(\"Number of train data - \" + str(len(x_train)))\n",
    "print(\"Number of test data - \" + str(len(x_test)))\n"
   ]
  },
  {
   "cell_type": "code",
   "execution_count": 7,
   "id": "f53aad19",
   "metadata": {
    "scrolled": true
   },
   "outputs": [
    {
     "name": "stdout",
     "output_type": "stream",
     "text": [
      "x_train shape: (54000, 28, 28, 1) y_train shape: (54000, 10)\n",
      "54000 train set\n",
      "10000 test set\n",
      "6000 validation set\n"
     ]
    }
   ],
   "source": [
    "#Breaking the training data into training and validation sets \n",
    "(x_train, x_valid) = x_train[6000:], x_train[:6000]\n",
    "(y_train, y_valid) = y_train[6000:], y_train[:6000]\n",
    "\n",
    "# Reshape input data from (28, 28) to (28, 28, 1)\n",
    "l, w = 28, 28\n",
    "\n",
    "x_train = x_train.reshape(x_train.shape[0], l, w, 1)\n",
    "x_test = x_test.reshape(x_test.shape[0], l, w, 1)\n",
    "x_valid = x_valid.reshape(x_valid.shape[0], l, w, 1)\n",
    "\n",
    "# One-hot encode the labels\n",
    "y_train = tf.keras.utils.to_categorical(y_train, 10)\n",
    "y_valid = tf.keras.utils.to_categorical(y_valid, 10)\n",
    "y_test = tf.keras.utils.to_categorical(y_test, 10)\n",
    "\n",
    "#printing the training set shape\n",
    "print(\"x_train shape:\", x_train.shape, \"y_train shape:\", y_train.shape)\n",
    "\n",
    "#printing the number of training, validation, and test datasets\n",
    "\n",
    "print(x_train.shape[0], 'train set')\n",
    "print(x_test.shape[0], 'test set')\n",
    "print(x_valid.shape[0], 'validation set')"
   ]
  },
  {
   "cell_type": "code",
   "execution_count": 8,
   "id": "5932a2b5",
   "metadata": {
    "scrolled": true
   },
   "outputs": [],
   "source": []
  },
  {
   "cell_type": "code",
   "execution_count": 9,
   "id": "aa5fa0dd",
   "metadata": {
    "scrolled": true
   },
   "outputs": [
    {
     "name": "stdout",
     "output_type": "stream",
     "text": [
      "Model: \"sequential\"\n",
      "_________________________________________________________________\n",
      " Layer (type)                Output Shape              Param #   \n",
      "=================================================================\n",
      " conv2d (Conv2D)             (None, 26, 26, 64)        640       \n",
      "                                                                 \n",
      " max_pooling2d (MaxPooling2D  (None, 13, 13, 64)       0         \n",
      " )                                                               \n",
      "                                                                 \n",
      " dropout (Dropout)           (None, 13, 13, 64)        0         \n",
      "                                                                 \n",
      " flatten (Flatten)           (None, 10816)             0         \n",
      "                                                                 \n",
      " dense (Dense)               (None, 1024)              11076608  \n",
      "                                                                 \n",
      " dense_1 (Dense)             (None, 10)                10250     \n",
      "                                                                 \n",
      "=================================================================\n",
      "Total params: 11,087,498\n",
      "Trainable params: 11,087,498\n",
      "Non-trainable params: 0\n",
      "_________________________________________________________________\n"
     ]
    }
   ],
   "source": [
    "model = tf.keras.Sequential()\n",
    "\n",
    "model.add(tf.keras.layers.Conv2D(filters=64, kernel_size=3, padding='valid', strides=1, activation='relu', input_shape=(28,28,1)))\n",
    "model.add(tf.keras.layers.MaxPooling2D(pool_size=2, strides=2, padding='valid'))\n",
    "\n",
    "model.add(tf.keras.layers.Dropout(0.3))\n",
    "model.add(tf.keras.layers.Flatten())\n",
    "model.add(tf.keras.layers.Dense(1024, activation='relu'))\n",
    "model.add(tf.keras.layers.Dense(10, activation='softmax'))\n",
    "\n",
    "model.summary()"
   ]
  },
  {
   "cell_type": "code",
   "execution_count": 10,
   "id": "9caa894c",
   "metadata": {},
   "outputs": [],
   "source": [
    "model.compile(optimizer='adam', loss='categorical_crossentropy', metrics=['accuracy'])\n"
   ]
  },
  {
   "cell_type": "code",
   "execution_count": 11,
   "id": "5c572528",
   "metadata": {},
   "outputs": [],
   "source": [
    "checkpointer = ModelCheckpoint(filepath='model.weights.best.hdf5', verbose = 1, save_best_only=True)"
   ]
  },
  {
   "cell_type": "code",
   "execution_count": 12,
   "id": "723a3a4b",
   "metadata": {
    "scrolled": true
   },
   "outputs": [
    {
     "name": "stdout",
     "output_type": "stream",
     "text": [
      "Epoch 1/10\n",
      "\n",
      "Epoch 1: val_loss improved from inf to 0.27517, saving model to model.weights.best.hdf5\n",
      "844/844 - 10s - loss: 0.3778 - accuracy: 0.8642 - val_loss: 0.2752 - val_accuracy: 0.8987 - 10s/epoch - 12ms/step\n",
      "Epoch 2/10\n",
      "\n",
      "Epoch 2: val_loss improved from 0.27517 to 0.24841, saving model to model.weights.best.hdf5\n",
      "844/844 - 5s - loss: 0.2541 - accuracy: 0.9061 - val_loss: 0.2484 - val_accuracy: 0.9092 - 5s/epoch - 6ms/step\n",
      "Epoch 3/10\n",
      "\n",
      "Epoch 3: val_loss improved from 0.24841 to 0.22802, saving model to model.weights.best.hdf5\n",
      "844/844 - 5s - loss: 0.2068 - accuracy: 0.9229 - val_loss: 0.2280 - val_accuracy: 0.9190 - 5s/epoch - 6ms/step\n",
      "Epoch 4/10\n",
      "\n",
      "Epoch 4: val_loss did not improve from 0.22802\n",
      "844/844 - 5s - loss: 0.1721 - accuracy: 0.9359 - val_loss: 0.2408 - val_accuracy: 0.9125 - 5s/epoch - 6ms/step\n",
      "Epoch 5/10\n",
      "\n",
      "Epoch 5: val_loss did not improve from 0.22802\n",
      "844/844 - 5s - loss: 0.1447 - accuracy: 0.9450 - val_loss: 0.2467 - val_accuracy: 0.9178 - 5s/epoch - 6ms/step\n",
      "Epoch 6/10\n",
      "\n",
      "Epoch 6: val_loss did not improve from 0.22802\n",
      "844/844 - 5s - loss: 0.1219 - accuracy: 0.9545 - val_loss: 0.2412 - val_accuracy: 0.9207 - 5s/epoch - 6ms/step\n",
      "Epoch 7/10\n",
      "\n",
      "Epoch 7: val_loss did not improve from 0.22802\n",
      "844/844 - 5s - loss: 0.1014 - accuracy: 0.9629 - val_loss: 0.2684 - val_accuracy: 0.9197 - 5s/epoch - 6ms/step\n",
      "Epoch 8/10\n",
      "\n",
      "Epoch 8: val_loss did not improve from 0.22802\n",
      "844/844 - 5s - loss: 0.0823 - accuracy: 0.9697 - val_loss: 0.2870 - val_accuracy: 0.9212 - 5s/epoch - 6ms/step\n",
      "Epoch 9/10\n",
      "\n",
      "Epoch 9: val_loss did not improve from 0.22802\n",
      "844/844 - 5s - loss: 0.0689 - accuracy: 0.9741 - val_loss: 0.2960 - val_accuracy: 0.9175 - 5s/epoch - 6ms/step\n",
      "Epoch 10/10\n",
      "\n",
      "Epoch 10: val_loss did not improve from 0.22802\n",
      "844/844 - 5s - loss: 0.0583 - accuracy: 0.9789 - val_loss: 0.3003 - val_accuracy: 0.9185 - 5s/epoch - 6ms/step\n"
     ]
    }
   ],
   "source": [
    "x = model.fit(x_train, y_train, batch_size=64, epochs=10, verbose=2, validation_data=(x_valid, y_valid), callbacks=[checkpointer])\n",
    "\n"
   ]
  },
  {
   "cell_type": "code",
   "execution_count": 13,
   "id": "0de47c5c",
   "metadata": {
    "scrolled": true
   },
   "outputs": [
    {
     "name": "stdout",
     "output_type": "stream",
     "text": [
      "313/313 [==============================] - 1s 2ms/step - loss: 0.3099 - accuracy: 0.9236\n",
      "\n",
      "Test accuracy: 0.9236000180244446\n"
     ]
    }
   ],
   "source": [
    "test_loss, test_acc = model.evaluate(x_test, y_test, verbose=1)\n",
    "\n",
    "print('\\nTest accuracy:', test_acc)\n"
   ]
  },
  {
   "cell_type": "code",
   "execution_count": 15,
   "id": "6abad26c",
   "metadata": {},
   "outputs": [
    {
     "data": {
      "text/plain": [
       "[<tf.Variable 'conv2d/kernel:0' shape=(3, 3, 1, 64) dtype=float32, numpy=\n",
       " array([[[[ 1.37177661e-01, -1.76095739e-01, -1.89053789e-01,\n",
       "           -1.09201536e-01, -1.49767790e-02,  1.98887497e-01,\n",
       "           -3.23588550e-01,  3.39013964e-01,  1.10589743e-01,\n",
       "           -8.07404742e-02, -1.84857383e-01, -9.19865072e-03,\n",
       "           -4.17972617e-02,  8.70808363e-02, -1.96237698e-01,\n",
       "           -3.91074002e-01, -2.39128694e-01, -1.92579776e-01,\n",
       "            3.24495248e-02, -1.15140431e-01,  5.45334117e-03,\n",
       "            1.90592617e-01, -2.85880193e-02,  1.73130035e-01,\n",
       "           -1.97144374e-01,  2.76680291e-01,  2.80844182e-01,\n",
       "            7.89806098e-02,  9.80676487e-02,  7.63222575e-02,\n",
       "           -2.74125755e-01, -2.35684235e-02, -2.15968732e-02,\n",
       "           -1.14841433e-02,  1.92308918e-01, -2.92542800e-02,\n",
       "           -3.23246978e-02, -1.42128706e-01,  4.38185222e-03,\n",
       "           -2.04248816e-01, -3.13710690e-01, -1.54231459e-01,\n",
       "            1.52136728e-01, -1.19049795e-01, -3.14662814e-01,\n",
       "           -1.03530109e-01,  3.61481756e-02, -5.97650290e-01,\n",
       "           -1.38454571e-01, -1.48856223e-01, -1.75085545e-01,\n",
       "           -1.87967435e-01, -1.19573213e-01,  2.97706693e-01,\n",
       "           -1.74512967e-01, -6.04520030e-02, -3.76408607e-01,\n",
       "            1.76035389e-01, -2.99961865e-02,  1.17969453e-01,\n",
       "           -2.33632237e-01, -2.14019403e-01,  2.00416148e-02,\n",
       "            1.95329890e-01]],\n",
       " \n",
       "         [[ 2.22934559e-01,  2.39941508e-01,  8.92651081e-02,\n",
       "            1.15991913e-01,  1.45881310e-01, -1.34626538e-01,\n",
       "           -6.55142292e-02, -2.32227996e-01,  4.84277308e-02,\n",
       "           -3.73068755e-03, -7.06315413e-02, -1.10171959e-01,\n",
       "           -4.51552868e-02, -4.00232151e-02,  1.40780389e-01,\n",
       "           -1.01754062e-01, -5.19068599e-01,  1.21600861e-02,\n",
       "           -8.68524313e-02,  4.76988144e-02, -6.63525760e-02,\n",
       "           -1.65897701e-02,  1.34776652e-01,  8.54839757e-02,\n",
       "           -4.66470778e-01,  1.49614364e-01, -2.30644226e-01,\n",
       "            1.56225085e-01, -2.35690653e-01, -1.31857634e-01,\n",
       "           -1.53947875e-01, -1.75428301e-01, -2.42517635e-01,\n",
       "            7.22755566e-02, -4.14138019e-01,  1.92062594e-02,\n",
       "           -1.16748936e-01,  8.57664347e-02,  1.21138327e-01,\n",
       "            2.70868689e-01, -3.78340967e-02, -3.59185845e-01,\n",
       "           -6.68973848e-03, -6.44833781e-03, -3.32223885e-02,\n",
       "            1.27026960e-01, -1.06212728e-01, -7.70203173e-01,\n",
       "           -1.60173386e-01,  3.98011655e-02,  1.69251665e-01,\n",
       "           -1.41989499e-01, -1.05577901e-01,  6.96731061e-02,\n",
       "           -1.74155146e-01,  1.97562590e-01, -2.53691524e-01,\n",
       "            1.05123140e-01,  1.55745000e-01, -1.93527399e-03,\n",
       "            2.30940476e-01, -8.35563466e-02,  2.89816502e-02,\n",
       "           -1.77895814e-01]],\n",
       " \n",
       "         [[-2.28757411e-01, -3.41226101e-01, -7.04618171e-02,\n",
       "            5.27620502e-02, -2.24155292e-01, -9.36721861e-02,\n",
       "            3.93712223e-01, -6.58054799e-02,  2.66512148e-02,\n",
       "            1.14009656e-01,  1.17495365e-01,  7.86937848e-02,\n",
       "            6.50183335e-02, -6.64210180e-03,  5.47870621e-02,\n",
       "           -1.73555106e-01, -4.07966167e-01,  2.48815268e-01,\n",
       "            1.51412282e-02,  6.92399591e-02, -2.58332521e-01,\n",
       "            2.34835371e-02,  2.58316975e-02,  5.13571575e-02,\n",
       "           -2.88958341e-01, -1.43324479e-01, -1.11634061e-01,\n",
       "            1.21496744e-01,  1.54653504e-01,  1.97686881e-01,\n",
       "           -4.09803689e-02,  1.52047470e-01,  3.20259854e-02,\n",
       "           -4.43968102e-02, -3.64973694e-01,  2.95161791e-02,\n",
       "           -4.53101955e-02, -2.02140763e-01,  1.50562167e-01,\n",
       "           -6.88644350e-02,  8.15993324e-02, -6.14332497e-01,\n",
       "           -5.82584105e-02,  1.90087408e-01,  2.73300558e-01,\n",
       "           -3.14055562e-01,  4.47853319e-02, -2.00341895e-01,\n",
       "            1.64072514e-01,  1.92429587e-01,  5.71808852e-02,\n",
       "           -1.70159698e-01, -2.00398251e-01, -3.09707284e-01,\n",
       "            1.90039337e-01, -1.30248204e-01,  7.58523941e-02,\n",
       "           -2.59124905e-01, -2.67117858e-01, -1.10483803e-01,\n",
       "            9.30528343e-03,  2.98289865e-01, -1.42810261e-02,\n",
       "           -3.96621134e-03]]],\n",
       " \n",
       " \n",
       "        [[[-4.68381047e-01, -6.85661063e-02,  6.69000447e-02,\n",
       "            2.29379684e-01,  2.18190372e-01,  4.13257033e-02,\n",
       "           -1.30038947e-01,  8.83443356e-02, -2.41170637e-02,\n",
       "           -8.13376084e-02,  2.00469926e-01, -1.63611233e-01,\n",
       "            8.19526985e-02,  6.10265359e-02, -7.48014823e-02,\n",
       "           -3.60312164e-01,  3.01086187e-01, -5.44296145e-01,\n",
       "            9.90457535e-02, -1.10047869e-01,  1.21398762e-01,\n",
       "           -2.57965147e-01, -1.33302482e-02, -1.74208924e-01,\n",
       "            3.40483099e-01, -1.88052371e-01, -2.72489816e-01,\n",
       "            8.73191729e-02, -1.53677672e-01, -4.93541300e-01,\n",
       "           -7.78693035e-02,  6.00783043e-02,  1.67427942e-01,\n",
       "           -7.36596109e-03, -2.54619122e-01, -1.88414484e-01,\n",
       "           -2.62685418e-02, -1.79466769e-01, -3.12651806e-02,\n",
       "           -7.93861806e-01, -2.56247044e-01,  1.30084455e-01,\n",
       "           -8.96117538e-02, -9.71121117e-02,  2.64961451e-01,\n",
       "            7.12293610e-02,  6.18212819e-02,  3.46244648e-02,\n",
       "            1.95134785e-02,  8.32225978e-02, -4.26803976e-02,\n",
       "           -5.22720069e-02,  2.03565016e-01,  2.44754981e-02,\n",
       "           -6.27288944e-04,  4.85593863e-02, -1.22806728e-01,\n",
       "           -2.08552256e-01, -2.03897610e-01, -2.88188364e-02,\n",
       "            6.44412190e-02, -4.96058911e-01,  9.96690914e-02,\n",
       "            1.76891625e-01]],\n",
       " \n",
       "         [[-2.24798426e-01,  9.06632319e-02,  1.18691333e-01,\n",
       "            4.80713658e-02, -2.64775634e-01,  1.11884728e-01,\n",
       "           -3.62919331e-01, -1.49230838e-01, -2.16529444e-01,\n",
       "           -1.10599674e-01, -2.79965848e-01, -7.16383904e-02,\n",
       "           -1.20005608e-01, -1.72105372e-01,  2.14719906e-01,\n",
       "           -9.29233525e-03,  2.18808632e-02, -1.49704710e-01,\n",
       "            1.05919972e-01,  1.19470298e-01,  2.35175788e-01,\n",
       "           -2.20369518e-01,  9.57682356e-02, -8.70112181e-02,\n",
       "           -3.87657955e-02, -1.77066475e-01,  2.74325192e-01,\n",
       "           -1.68116882e-01,  2.66820043e-01,  2.18466353e-02,\n",
       "            1.83832496e-01,  5.35891540e-02, -4.88523953e-02,\n",
       "            1.71771571e-01, -2.83109009e-01,  1.86289147e-01,\n",
       "           -1.39998496e-01,  2.23214746e-01, -5.25200367e-02,\n",
       "            6.56264722e-02,  8.75872448e-02, -1.30423950e-02,\n",
       "            1.54399976e-01, -2.00077109e-02, -8.63280073e-02,\n",
       "            1.40993968e-01, -1.34815753e-01, -2.39472136e-01,\n",
       "            8.88343304e-02,  1.40069202e-01, -4.58517447e-02,\n",
       "           -1.13255091e-01,  1.13476977e-01, -3.67921680e-01,\n",
       "            2.00192258e-01,  7.31914043e-02,  1.68201536e-01,\n",
       "            5.02780676e-02,  2.79544681e-01,  1.69533387e-01,\n",
       "            1.83389783e-02,  1.65522948e-01, -1.68389931e-01,\n",
       "           -1.76089108e-01]],\n",
       " \n",
       "         [[ 2.35696375e-01,  7.21558109e-02,  2.45072413e-02,\n",
       "           -9.27678496e-02,  5.74050620e-02, -1.66977286e-01,\n",
       "           -2.14935243e-01,  5.16835824e-02, -8.80795196e-02,\n",
       "            1.64157718e-01,  1.64917052e-01,  1.09123044e-01,\n",
       "            9.71859023e-02,  1.42213240e-01, -1.72176570e-01,\n",
       "            2.89709181e-01,  8.78008455e-02,  5.54388016e-02,\n",
       "           -1.96946785e-01, -8.82053822e-02,  7.04796985e-02,\n",
       "           -2.17416644e-01,  6.55310676e-02,  1.08536437e-01,\n",
       "            2.30825588e-01,  1.90104157e-01,  1.22716606e-01,\n",
       "           -7.51295164e-02, -1.39718637e-01,  8.40751827e-02,\n",
       "           -5.52501678e-02,  1.28481731e-01,  1.27027482e-01,\n",
       "           -1.54229656e-01, -1.29011631e-01,  4.84523276e-04,\n",
       "           -1.87497079e-01, -9.70425680e-02,  7.22214431e-02,\n",
       "           -9.31468159e-02, -1.90396070e-01, -4.66760576e-01,\n",
       "            1.51384026e-01, -1.95922717e-01, -6.33859029e-03,\n",
       "            9.49665532e-02,  4.50145267e-02, -5.06392419e-02,\n",
       "            5.43841273e-02, -1.61177233e-01,  8.68056342e-02,\n",
       "            2.20732078e-01,  8.43176469e-02,  1.73424482e-02,\n",
       "           -3.78196724e-02, -1.37385935e-01, -9.91476327e-02,\n",
       "            1.63519472e-01,  2.23675266e-01, -1.15808062e-01,\n",
       "            6.27993559e-03, -7.54959658e-02,  1.48341924e-01,\n",
       "           -2.65455362e-03]]],\n",
       " \n",
       " \n",
       "        [[[-5.94740093e-01, -1.26385346e-01, -1.18610419e-01,\n",
       "           -1.45242393e-01, -2.30945647e-01, -5.04292026e-02,\n",
       "            2.77852982e-01, -2.91481644e-01,  1.18407957e-01,\n",
       "            1.32847846e-01,  1.41102225e-01,  1.87269505e-02,\n",
       "           -9.04373750e-02,  3.13728265e-02,  7.05553070e-02,\n",
       "            1.38056442e-01, -7.75141548e-03, -3.46036673e-01,\n",
       "           -2.75182705e-02, -3.11304890e-02, -1.81062639e-01,\n",
       "            6.58827350e-02,  1.31571844e-01, -6.77681193e-02,\n",
       "           -1.93057165e-01, -5.94998896e-02,  1.11255525e-02,\n",
       "           -9.42981690e-02,  4.24807221e-02, -2.65330791e-01,\n",
       "           -7.88622350e-02,  9.45661515e-02, -7.39202276e-02,\n",
       "            2.49350183e-02,  9.41101387e-02, -1.28228500e-01,\n",
       "            4.82817478e-02, -7.67145380e-02,  5.99029846e-02,\n",
       "           -6.15764201e-01,  8.21378455e-02,  4.08016518e-02,\n",
       "           -8.32141563e-02,  8.85844678e-02,  6.27245083e-02,\n",
       "           -2.71359384e-01, -1.50665119e-01,  4.43476140e-02,\n",
       "            1.16227411e-01,  2.17745870e-01,  1.14279523e-01,\n",
       "            2.59722054e-01, -2.63143033e-01, -3.11352074e-01,\n",
       "            1.56881195e-02, -4.00197916e-02,  4.42269519e-02,\n",
       "           -3.71007845e-02, -4.24372911e-01, -7.08687156e-02,\n",
       "            1.89893767e-01,  1.34253293e-01,  1.08877115e-01,\n",
       "           -7.89429992e-04]],\n",
       " \n",
       "         [[ 1.17937207e-01,  3.62420380e-02,  6.12632744e-02,\n",
       "           -2.21021950e-01,  9.35355872e-02, -1.62124634e-01,\n",
       "            1.77597569e-03, -2.55296558e-01, -2.85278857e-02,\n",
       "           -1.20195664e-01,  6.23215176e-03,  2.33493537e-01,\n",
       "           -5.63465916e-02, -1.63922012e-01, -5.23698442e-02,\n",
       "            6.20410517e-02, -6.54180720e-02, -3.50276679e-01,\n",
       "           -5.19114472e-02,  1.52376205e-01, -1.78546384e-01,\n",
       "            2.12930113e-01, -1.85146675e-01,  3.68224382e-02,\n",
       "           -1.03965282e-01, -3.99768919e-01, -1.45713910e-01,\n",
       "           -7.80769736e-02, -3.20851281e-02,  1.65405884e-01,\n",
       "            2.25961581e-01,  1.63582861e-01,  1.04375824e-01,\n",
       "            1.48589686e-01, -5.01744486e-02,  9.97421220e-02,\n",
       "            5.51951006e-02,  2.44286343e-01, -1.24392718e-01,\n",
       "           -2.24110350e-01,  1.49520606e-01,  2.63365954e-01,\n",
       "           -1.58600196e-01,  1.58240393e-01, -1.34080991e-01,\n",
       "           -8.17255676e-02,  6.43445700e-02,  1.51570722e-01,\n",
       "           -1.20319471e-01, -1.81305200e-01, -1.47018015e-01,\n",
       "           -2.31873840e-01,  1.90438762e-01,  1.00093139e-02,\n",
       "           -1.12465234e-03,  2.07642391e-02,  1.08179010e-01,\n",
       "           -9.69414189e-02, -2.19939142e-01,  1.10233814e-01,\n",
       "           -2.38608092e-01,  8.63349959e-02, -2.22905144e-01,\n",
       "            5.43839298e-02]],\n",
       " \n",
       "         [[-7.71355554e-02, -3.15468037e-03, -1.70431346e-01,\n",
       "            2.19659004e-02,  1.80085421e-01,  1.09043874e-01,\n",
       "           -2.00602114e-01,  7.56639987e-02,  1.28992751e-01,\n",
       "           -8.77127890e-03, -8.18708614e-02, -2.21441939e-01,\n",
       "            1.25660613e-01,  1.16131760e-01, -1.33751661e-01,\n",
       "           -1.02694422e-01, -1.64536685e-01, -1.08958289e-01,\n",
       "            7.87393898e-02, -7.81184882e-02,  1.28266811e-01,\n",
       "            1.42429098e-01, -2.52764653e-02,  2.63668839e-02,\n",
       "            9.30468291e-02, -7.50755891e-02, -3.81365381e-02,\n",
       "           -3.59888971e-02,  2.05677934e-02, -1.45291492e-01,\n",
       "           -8.21924284e-02, -2.73351252e-01,  4.05152999e-02,\n",
       "           -1.71015725e-01,  2.46046439e-01,  2.08371021e-02,\n",
       "            2.54912555e-01, -1.80278659e-01, -1.66845232e-01,\n",
       "            2.06624538e-01,  2.67437636e-03, -1.09304264e-01,\n",
       "           -1.46763191e-01, -5.85593544e-02, -2.38164589e-01,\n",
       "            8.71519893e-02,  2.78160926e-02,  7.64022917e-02,\n",
       "           -1.04583621e-01, -1.79569915e-01,  1.46995261e-02,\n",
       "            6.43027248e-03, -1.45954162e-01,  2.47840077e-01,\n",
       "           -1.59120440e-01,  5.88362943e-03,  5.00946015e-04,\n",
       "            1.22085132e-01, -8.48483741e-02, -4.46197167e-02,\n",
       "           -2.70568300e-02, -2.81901389e-01,  1.29304036e-01,\n",
       "           -6.14883751e-02]]]], dtype=float32)>,\n",
       " <tf.Variable 'conv2d/bias:0' shape=(64,) dtype=float32, numpy=\n",
       " array([-0.00797029, -0.00929955, -0.01951854, -0.01674895, -0.03044381,\n",
       "        -0.01094156, -0.00257983, -0.02096909, -0.13314424, -0.02435032,\n",
       "        -0.09652341, -0.03493945, -0.01734441, -0.0751972 , -0.01613987,\n",
       "         0.00026332,  0.01136303,  0.00976226, -0.08861605, -0.02293718,\n",
       "        -0.01430571, -0.04026624, -0.16220015, -0.13654648, -0.00772012,\n",
       "        -0.00320562, -0.00419554, -0.02996529, -0.03810358, -0.00508386,\n",
       "        -0.00300454, -0.11503556, -0.15815617, -0.0110397 , -0.00134594,\n",
       "        -0.009765  , -0.00390155, -0.00991167, -0.045513  , -0.00164782,\n",
       "        -0.00335575,  0.00759192, -0.00824985, -0.05287654, -0.00933613,\n",
       "        -0.03969096, -0.02542971,  0.01166632, -0.03127542, -0.05409027,\n",
       "        -0.07761906, -0.00920522, -0.00700278, -0.00399977, -0.02540331,\n",
       "        -0.00803862, -0.01203561, -0.02422229, -0.00918496, -0.01699352,\n",
       "        -0.0252673 , -0.00423421, -0.08389173, -0.01348875], dtype=float32)>,\n",
       " <tf.Variable 'dense/kernel:0' shape=(10816, 1024) dtype=float32, numpy=\n",
       " array([[-4.7014863e-03, -4.1624740e-02,  1.0221154e-01, ...,\n",
       "         -6.9188103e-02, -2.7957743e-02,  8.6273983e-02],\n",
       "        [-1.6281798e-02, -6.0536914e-02, -1.5431264e-03, ...,\n",
       "         -9.0443268e-02,  8.8195602e-04,  6.9545120e-02],\n",
       "        [-5.4648020e-03, -4.1204928e-03,  3.1316292e-02, ...,\n",
       "          2.0754658e-02,  2.1894321e-02,  1.0623015e-03],\n",
       "        ...,\n",
       "        [ 1.2624807e-02, -2.4904007e-02, -2.1396497e-02, ...,\n",
       "         -2.5131190e-02,  2.9249676e-02,  3.6485676e-02],\n",
       "        [ 1.5093381e-02, -2.0063408e-01, -4.8754010e-02, ...,\n",
       "         -8.1417494e-02, -7.2164178e-02, -7.4128613e-02],\n",
       "        [-2.3839613e-02, -9.0890992e-03,  2.1567423e-04, ...,\n",
       "         -3.6064502e-02,  6.5166473e-02, -4.4537815e-01]], dtype=float32)>,\n",
       " <tf.Variable 'dense/bias:0' shape=(1024,) dtype=float32, numpy=\n",
       " array([-0.0709329 ,  0.01960803,  0.04061939, ..., -0.01514622,\n",
       "         0.08288961,  0.00403836], dtype=float32)>,\n",
       " <tf.Variable 'dense_1/kernel:0' shape=(1024, 10) dtype=float32, numpy=\n",
       " array([[-0.09852957, -0.0604137 , -0.18505132, ..., -0.13996711,\n",
       "         -0.11698234,  0.03528002],\n",
       "        [-0.29016095, -0.04889636, -0.3269843 , ...,  0.08239239,\n",
       "         -0.4341129 ,  0.10050798],\n",
       "        [-0.10535975, -0.04936849, -0.13431768, ...,  0.06202096,\n",
       "          0.1104816 ,  0.062472  ],\n",
       "        ...,\n",
       "        [-0.09894133, -0.27253804,  0.06628406, ...,  0.00371809,\n",
       "          0.06817453, -0.11192336],\n",
       "        [-0.17830715, -0.16843967,  0.06524004, ...,  0.3429621 ,\n",
       "          0.02599384, -0.35226208],\n",
       "        [ 0.41031992, -0.11670189, -0.19342244, ...,  0.11037445,\n",
       "         -0.19242574, -0.16714837]], dtype=float32)>,\n",
       " <tf.Variable 'dense_1/bias:0' shape=(10,) dtype=float32, numpy=\n",
       " array([-0.03731753, -0.11185232,  0.05841189,  0.06163678, -0.02843169,\n",
       "        -0.07853798,  0.01449854,  0.05252184, -0.04227218, -0.02960021],\n",
       "       dtype=float32)>]"
      ]
     },
     "execution_count": 15,
     "metadata": {},
     "output_type": "execute_result"
    }
   ],
   "source": [
    "#to get out all the trainable variabels out of layers\n",
    "model.trainable_variables"
   ]
  },
  {
   "cell_type": "code",
   "execution_count": 16,
   "id": "1e4bcef4",
   "metadata": {
    "scrolled": true
   },
   "outputs": [
    {
     "data": {
      "text/plain": [
       "<tf.Variable 'dense/kernel:0' shape=(10816, 1024) dtype=float32, numpy=\n",
       "array([[-4.7014863e-03, -4.1624740e-02,  1.0221154e-01, ...,\n",
       "        -6.9188103e-02, -2.7957743e-02,  8.6273983e-02],\n",
       "       [-1.6281798e-02, -6.0536914e-02, -1.5431264e-03, ...,\n",
       "        -9.0443268e-02,  8.8195602e-04,  6.9545120e-02],\n",
       "       [-5.4648020e-03, -4.1204928e-03,  3.1316292e-02, ...,\n",
       "         2.0754658e-02,  2.1894321e-02,  1.0623015e-03],\n",
       "       ...,\n",
       "       [ 1.2624807e-02, -2.4904007e-02, -2.1396497e-02, ...,\n",
       "        -2.5131190e-02,  2.9249676e-02,  3.6485676e-02],\n",
       "       [ 1.5093381e-02, -2.0063408e-01, -4.8754010e-02, ...,\n",
       "        -8.1417494e-02, -7.2164178e-02, -7.4128613e-02],\n",
       "       [-2.3839613e-02, -9.0890992e-03,  2.1567423e-04, ...,\n",
       "        -3.6064502e-02,  6.5166473e-02, -4.4537815e-01]], dtype=float32)>"
      ]
     },
     "execution_count": 16,
     "metadata": {},
     "output_type": "execute_result"
    }
   ],
   "source": [
    "model.trainable_variables[2]"
   ]
  },
  {
   "cell_type": "code",
   "execution_count": 17,
   "id": "29d12088",
   "metadata": {},
   "outputs": [],
   "source": [
    "def convertWeights (model):\n",
    "    \n",
    "    convKernels = model.trainable_variables[0].numpy()\n",
    "    convBiases = model.trainable_variables[1].numpy()\n",
    "    \n",
    "    W1 = np.zeros((26*26*64, 28*28)) #for convolution Filter Weights\n",
    "    B1 = np.zeros((26*26*64,)) # for convolution of Filter Biases\n",
    "    W2 = model.trainable_variables[2].numpy().T\n",
    "    B2 = model.trainable_variables[3].numpy()\n",
    "    W3 = model.trainable_variables[4].numpy().T\n",
    "    B3 = model.trainable_variables[5].numpy()\n",
    "    index = 0\n",
    "    \n",
    "    for i in range(26):\n",
    "        for j in range(26):\n",
    "            for f in range(64):\n",
    "                for row in range(3):\n",
    "                    start = (i + row)*28 + j\n",
    "                    end = start + 3\n",
    "                    W1[index, start:end] = convKernels[row,:,0,f]\n",
    "                B1[index] = convBiases[f]\n",
    "                index += 1\n",
    "    return W1, B1, W2, B2, W3, B3\n",
    "                    "
   ]
  },
  {
   "cell_type": "code",
   "execution_count": 18,
   "id": "9ee1d763",
   "metadata": {},
   "outputs": [],
   "source": [
    "def fullyConnectedNN (W, b, x):\n",
    "    h = x\n",
    "    for i in range(len(W)):\n",
    "        z = np.dot(W[i], h) + b[i]\n",
    "        \n",
    "        if i == 0:\n",
    "            h = relu(maxPooling(z))\n",
    "        elif i == len(W)-1:\n",
    "            h = z\n",
    "        else:\n",
    "            h = relu(z)\n",
    "    return h"
   ]
  },
  {
   "cell_type": "code",
   "execution_count": 19,
   "id": "22613fdc",
   "metadata": {},
   "outputs": [],
   "source": [
    "def maxPooling (x):\n",
    "    x = x.reshape((26, 26, 64))\n",
    "    h = np.zeros((13, 13, 64))\n",
    "    for i in range(0, 25, 2):\n",
    "        for j in range(0, 25, 2):\n",
    "            for f in range(64):\n",
    "                h[i//2, j//2, f] = np.max(x[i:i+2, j:j+2, f])\n",
    "    return h.flatten()\n",
    "                \n",
    "            \n",
    "    "
   ]
  },
  {
   "cell_type": "code",
   "execution_count": 20,
   "id": "2a201547",
   "metadata": {},
   "outputs": [],
   "source": [
    "def softmax(z):\n",
    "    return np.exp(z) / np.sum(np.exp(z), axis=0)"
   ]
  },
  {
   "cell_type": "code",
   "execution_count": 21,
   "id": "c0d0e450",
   "metadata": {},
   "outputs": [],
   "source": [
    "def relu(z):\n",
    "    return (z>0) * z"
   ]
  },
  {
   "cell_type": "code",
   "execution_count": 22,
   "id": "cc560e0d",
   "metadata": {},
   "outputs": [],
   "source": [
    "W1, B1, W2, B2, W3, B3 = convertWeights(model)\n",
    "\n",
    "W = [W1, W2, W3]\n",
    "b = [B1, B2, B3]"
   ]
  },
  {
   "cell_type": "code",
   "execution_count": 23,
   "id": "6d5e926c",
   "metadata": {},
   "outputs": [
    {
     "name": "stdout",
     "output_type": "stream",
     "text": [
      "FNN Predicted Values: [3.75481364e-08 1.24463494e-09 6.20628349e-06 6.30316978e-16\n",
      " 2.37396063e-09 2.56242824e-11 1.89935365e-11 2.96941382e-16\n",
      " 9.99993753e-01 3.66439053e-17]\n",
      "1/1 [==============================] - 0s 218ms/step\n",
      "[3.7648409e-08 1.2497587e-09 6.2171271e-06 6.2898946e-16 2.3794549e-09\n",
      " 2.5647370e-11 1.9045517e-11 2.9748443e-16 9.9999368e-01 3.6713531e-17]\n",
      "1/1 [==============================] - 0s 45ms/step\n",
      "Same Prediction.\n"
     ]
    }
   ],
   "source": [
    "x = x_train[0, :, :, 0].flatten()\n",
    "z = fullyConnectedNN(W, b, x)\n",
    "\n",
    "yhat = softmax(z)\n",
    "print(f'FNN Predicted Values: {yhat}')\n",
    "print(model.predict(x_train[0:1,:,:,0])[0])\n",
    "if (np.argmax(yhat) == np.argmax(model.predict(x_train[0:1,:,:,:])[0])):\n",
    "    print('Same Prediction.')\n",
    "else:\n",
    "    print('Different Prediction.')"
   ]
  },
  {
   "cell_type": "code",
   "execution_count": null,
   "id": "08f2a0f2",
   "metadata": {},
   "outputs": [],
   "source": []
  },
  {
   "cell_type": "code",
   "execution_count": null,
   "id": "471bd155",
   "metadata": {},
   "outputs": [],
   "source": []
  }
 ],
 "metadata": {
  "kernelspec": {
   "display_name": "Python 3 (ipykernel)",
   "language": "python",
   "name": "python3"
  },
  "language_info": {
   "codemirror_mode": {
    "name": "ipython",
    "version": 3
   },
   "file_extension": ".py",
   "mimetype": "text/x-python",
   "name": "python",
   "nbconvert_exporter": "python",
   "pygments_lexer": "ipython3",
   "version": "3.9.12"
  }
 },
 "nbformat": 4,
 "nbformat_minor": 5
}
